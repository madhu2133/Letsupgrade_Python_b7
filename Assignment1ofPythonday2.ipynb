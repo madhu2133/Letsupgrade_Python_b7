{
  "nbformat": 4,
  "nbformat_minor": 0,
  "metadata": {
    "colab": {
      "name": "Assignmentday2.ipynb",
      "provenance": [],
      "authorship_tag": "ABX9TyOeMjUm6J6LzvNeKnV1MIcN",
      "include_colab_link": true
    },
    "kernelspec": {
      "name": "python3",
      "display_name": "Python 3"
    }
  },
  "cells": [
    {
      "cell_type": "markdown",
      "metadata": {
        "id": "view-in-github",
        "colab_type": "text"
      },
      "source": [
        "<a href=\"https://colab.research.google.com/github/madhu2133/Letsupgrade_Python_b7/blob/master/Assignment1ofPythonday2.ipynb\" target=\"_parent\"><img src=\"https://colab.research.google.com/assets/colab-badge.svg\" alt=\"Open In Colab\"/></a>"
      ]
    },
    {
      "cell_type": "code",
      "metadata": {
        "id": "8v2dWb4HYyKD",
        "colab_type": "code",
        "colab": {
          "base_uri": "https://localhost:8080/",
          "height": 122
        },
        "outputId": "4f935496-c11a-4b2d-a9d5-867520d57ae9"
      },
      "source": [
        "List1 = [1,\"day2\",[6,7,8], 10.34];\n",
        "print(List1);\n",
        "List1.append(3);\n",
        "print(List1);\n",
        "List1.insert(0,\"inserted value\");\n",
        "print(List1);\n",
        "List1.remove(\"inserted value\");\n",
        "print(List1);\n",
        "List1.clear();\n",
        "print(List1);\n",
        "del List1;"
      ],
      "execution_count": 2,
      "outputs": [
        {
          "output_type": "stream",
          "text": [
            "[1, 'day2', [6, 7, 8], 10.34]\n",
            "[1, 'day2', [6, 7, 8], 10.34, 3]\n",
            "['inserted value', 1, 'day2', [6, 7, 8], 10.34, 3]\n",
            "[1, 'day2', [6, 7, 8], 10.34, 3]\n",
            "[]\n"
          ],
          "name": "stdout"
        }
      ]
    },
    {
      "cell_type": "code",
      "metadata": {
        "id": "f6ZgwVDiZ-ED",
        "colab_type": "code",
        "colab": {
          "base_uri": "https://localhost:8080/",
          "height": 122
        },
        "outputId": "2495e114-a4b1-40d8-e5d3-5b47f4441b06"
      },
      "source": [
        "dname={\"a\":\"apple\", \"b\":\"ball\" ,\"c\":\"cat\"};\n",
        "print(dname);\n",
        "dname[1]=\"alpha\";\n",
        "print(dname);\n",
        "dname[\"d\"]=\"dog\";\n",
        "print(dname);\n",
        "del dname[1];\n",
        "print(dname);\n",
        "X=dname.get(\"a\");\n",
        "print(X);"
      ],
      "execution_count": 4,
      "outputs": [
        {
          "output_type": "stream",
          "text": [
            "{'a': 'apple', 'b': 'ball', 'c': 'cat'}\n",
            "{'a': 'apple', 'b': 'ball', 'c': 'cat', 1: 'alpha'}\n",
            "{'a': 'apple', 'b': 'ball', 'c': 'cat', 1: 'alpha', 'd': 'dog'}\n",
            "{'a': 'apple', 'b': 'ball', 'c': 'cat', 'd': 'dog'}\n",
            "apple\n"
          ],
          "name": "stdout"
        }
      ]
    },
    {
      "cell_type": "code",
      "metadata": {
        "id": "y4sqA8jUc6SJ",
        "colab_type": "code",
        "colab": {
          "base_uri": "https://localhost:8080/",
          "height": 102
        },
        "outputId": "abd2fe26-049f-4aef-daea-c2c3e3b3e0ec"
      },
      "source": [
        "Tuple=(1,2,3,4);\n",
        "print(Tuple);\n",
        "print(\"The type is\",type(Tuple));\n",
        "print(\"The length of tuple is\",len(Tuple));\n",
        "print (\"The max of tuple is\",max(Tuple));\n",
        "print (\"The min of tuple is\",min(Tuple));"
      ],
      "execution_count": 18,
      "outputs": [
        {
          "output_type": "stream",
          "text": [
            "(1, 2, 3, 4)\n",
            "The type is <class 'tuple'>\n",
            "The length of tuple is 4\n",
            "The max of tuple is 4\n",
            "The min of tuple is 1\n"
          ],
          "name": "stdout"
        }
      ]
    },
    {
      "cell_type": "code",
      "metadata": {
        "id": "_VXrFeH9s7yr",
        "colab_type": "code",
        "colab": {
          "base_uri": "https://localhost:8080/",
          "height": 105
        },
        "outputId": "e925d6de-a8f3-4a9b-f755-2a6e5e17725f"
      },
      "source": [
        "Set1={\"madhu\",\"mitha\",\"Kali\",\"lingam\"};\n",
        "print(Set1);\n",
        "Set2={\"manik\",\"Malhotra\"};\n",
        "print(Set2);\n",
        "print(Set1.union(Set2));\n",
        "print(Set1.intersection(Set2));\n",
        "del(Set2);"
      ],
      "execution_count": 29,
      "outputs": [
        {
          "output_type": "stream",
          "text": [
            "{'mitha', 'lingam', 'madhu', 'Kali'}\n",
            "{'Malhotra', 'manik'}\n",
            "{'lingam', 'manik', 'Kali', 'mitha', 'Malhotra', 'madhu'}\n",
            "set()\n"
          ],
          "name": "stdout"
        }
      ]
    },
    {
      "cell_type": "code",
      "metadata": {
        "id": "09JKQ_iUvRdi",
        "colab_type": "code",
        "colab": {
          "base_uri": "https://localhost:8080/",
          "height": 102
        },
        "outputId": "b3aaf2d6-07fd-491b-f7e2-1d6f901bbee3"
      },
      "source": [
        "String=\"madhu\";\n",
        "print (String);\n",
        "X=String.capitalize();\n",
        "print (X);\n",
        "print (len(X));\n",
        "print ( X[0]);\n",
        "print (X[:-1]);"
      ],
      "execution_count": 40,
      "outputs": [
        {
          "output_type": "stream",
          "text": [
            "madhu\n",
            "Madhu\n",
            "5\n",
            "M\n",
            "Madh\n"
          ],
          "name": "stdout"
        }
      ]
    }
  ]
}